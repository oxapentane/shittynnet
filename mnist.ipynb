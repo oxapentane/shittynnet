{
 "cells": [
  {
   "cell_type": "code",
   "execution_count": 599,
   "metadata": {},
   "outputs": [],
   "source": [
    "import numpy as np\n",
    "import matplotlib.pyplot as plt\n",
    "import tqdm"
   ]
  },
  {
   "cell_type": "markdown",
   "metadata": {},
   "source": [
    "## Load the dataset"
   ]
  },
  {
   "cell_type": "code",
   "execution_count": 600,
   "metadata": {},
   "outputs": [],
   "source": [
    "mnist = np.load(\"./mnist.npz\")"
   ]
  },
  {
   "cell_type": "code",
   "execution_count": 601,
   "metadata": {},
   "outputs": [],
   "source": [
    "(x_test, y_test), (x_train, y_train) = (mnist['x_test'], mnist['y_test']), (mnist['x_train'], mnist['y_train'])"
   ]
  },
  {
   "cell_type": "code",
   "execution_count": 602,
   "metadata": {},
   "outputs": [
    {
     "name": "stdout",
     "output_type": "stream",
     "text": [
      "5\n"
     ]
    },
    {
     "data": {
      "text/plain": [
       "<matplotlib.image.AxesImage at 0x7fedc58ac1d0>"
      ]
     },
     "execution_count": 602,
     "metadata": {},
     "output_type": "execute_result"
    },
    {
     "data": {
      "image/png": "[encoded data removed]",
      "text/plain": [
       "<Figure size 640x480 with 1 Axes>"
      ]
     },
     "metadata": {},
     "output_type": "display_data"
    }
   ],
   "source": [
    "print(y_train[0])\n",
    "plt.imshow(x_train[0])"
   ]
  },
  {
   "cell_type": "markdown",
   "metadata": {},
   "source": [
    "## Setup the classifier\n",
    "\n",
    "Very micrograd inspired, but working on tensors instead of the scalars. Using numpy to go faster"
   ]
  },
  {
   "cell_type": "code",
   "execution_count": 694,
   "metadata": {},
   "outputs": [],
   "source": [
    "class Tensor:\n",
    "  def __init__(self, data, _prev = (), _op='', _npseed=1773):\n",
    "    if not hasattr(data, \"__len__\"): data = [data] # for simplicity storing everything as matrices\n",
    "    self.data = data if isinstance(data, np.ndarray) and len(data.shape) == 2 else np.atleast_2d(np.asarray(data))\n",
    "    self._shape = np.shape(self.data)\n",
    "    assert len(self._shape) == 2, f\"shape doesn't seem to be 2D, got {self._shape}\"\n",
    "    # autograd bits\n",
    "    self.grad = self._zero_grad()\n",
    "    self._backward = lambda: None\n",
    "    self._prev = set(_prev)\n",
    "    self._op = _op\n",
    "\n",
    "  # the backpropogator\n",
    "  def backward(self):\n",
    "    assert self._shape == (1,1), f\"backward() can only be called on a scalar tensor, got shape: {self._shape}\"\n",
    "\n",
    "    # build the topo order of all the previous tensors\n",
    "    topo = []\n",
    "    visited = set()\n",
    "    def build_topo(v):\n",
    "      if v not in visited:\n",
    "        visited.add(v)\n",
    "        for child in v._prev:\n",
    "          build_topo(child)\n",
    "        topo.append(v)\n",
    "    build_topo(self)\n",
    "\n",
    "    # Set own gradient to 1\n",
    "    self.grad = self._ones_grad()\n",
    "    # go through the vars and calcualte the grad\n",
    "    for v in reversed(topo):\n",
    "      v._backward()\n",
    "\n",
    "  # Vector/matrix ops\n",
    "  def dot(self, other):\n",
    "    other = other if isinstance(other, Tensor) else Tensor(other)\n",
    "    out = Tensor(np.matmul(self.data, other.data), (self, other), 'dot')\n",
    "    def _backward():\n",
    "      self.grad += np.matmul(out.grad, other.data.T)\n",
    "      other.grad += np.matmul(self.data.T, out.grad)\n",
    "    out._backward = _backward\n",
    "    return out\n",
    "\n",
    "  def T(self):\n",
    "    out = Tensor(self.data.T, (self,), 'T')\n",
    "    def _backward():\n",
    "      self.grad = out.grad.T\n",
    "    self._backward = _backward\n",
    "    return out\n",
    "\n",
    "  # element-wise ops (broadcasted for arrays)\n",
    "  def __add__(self, other):\n",
    "    other = other if isinstance(other, Tensor) else Tensor(other)\n",
    "    out = Tensor(np.add(self.data, other.data), (self, other), '+')\n",
    "\n",
    "    def _backward():\n",
    "      self.grad += out._val_grad(out.grad)\n",
    "      other.grad += out._val_grad(out.grad)\n",
    "    out._backward = _backward\n",
    "\n",
    "    return out\n",
    "\n",
    "  def __mul__(self, other):\n",
    "    other = other if isinstance(other, Tensor) else Tensor(other)\n",
    "    out = Tensor(self.data * other.data, (self, other), '*')\n",
    "\n",
    "    def _backward():\n",
    "      self.grad += self._val_grad(out.grad) * other.data\n",
    "      other.grad += self._val_grad(out.grad) * self.data\n",
    "    out._backward = _backward\n",
    "\n",
    "    return out\n",
    "\n",
    "  def __pow__(self, exponent):\n",
    "    assert isinstance(exponent, (float, int)), \"power implemented only for float and int exponents\"\n",
    "\n",
    "    out = Tensor(self.data ** exponent, (self,), f'**{exponent}')\n",
    "\n",
    "    def _backward():\n",
    "      self.grad += (exponent * self.data**(exponent - 1)) * out.grad\n",
    "    self._backward = _backward\n",
    "\n",
    "    return out\n",
    "    \n",
    "  # Activation functions\n",
    "  def relu(self):\n",
    "    data = self.data\n",
    "    data[data<0] = 0\n",
    "    out = Tensor(data, (self,), 'ReLU')\n",
    "\n",
    "    def _backward():\n",
    "      pass\n",
    "    out._backward = _backward\n",
    "\n",
    "    return out\n",
    "\n",
    "  def softmax(self):\n",
    "    assert len(self._shape) == 1, f\"softmax defined for vectors, got shape {self._shape}\"\n",
    "    out = self.exp()\n",
    "    raise NotImplementedError\n",
    "\n",
    "\n",
    "  # generation helpers\n",
    "  def uniform(shape, low=-1, high=1):\n",
    "    assert len(shape) == 2, f\"matricies only!, got shape: {shape}\"\n",
    "    return Tensor((high - low) * np.random.rand(*shape) + low)\n",
    "\n",
    "  # free real estate\n",
    "  def __rmul__(self, other): return  self * other\n",
    "  def __sub__(self, other): return  self + (-other)\n",
    "  def __rsub__(self, other): return  (-self) + other\n",
    "  def __radd__(self, other): return self + other\n",
    "  def __neg__(self): return self * -1\n",
    "  def __truediv__(self, other): return self * other**-1\n",
    "  def __rtruediv__(self, other): return other * self**-1\n",
    "\n",
    "  # internal grad helpers\n",
    "  def _zero_grad(self): return np.zeros(self._shape)\n",
    "  def _ones_grad(self): return np.ones(self._shape)\n",
    "  def _val_grad(self, val): return np.ones(self._shape) * val\n",
    "\n",
    "  # internal rand helpers\n",
    "  #def _rand(shape): return np.random.rand(*shape)\n",
    "\n",
    "  # formatter for pretty printing\n",
    "  def __repr__(self): return f'Tensor(shape={self._shape}, grad={self.grad}, _op={self._op},\\n{self.data}\\n)\\n'"
   ]
  },
  {
   "cell_type": "code",
   "execution_count": 695,
   "metadata": {},
   "outputs": [],
   "source": [
    "class Test():\n",
    "  def __init__(self):\n",
    "    self.L1 = Tensor(2)\n",
    "    self.L1b = Tensor(10)\n",
    "  def forward(self, x):\n",
    "    return x.dot(self.L1) + self.L1b\n",
    "\n",
    "t = Test()"
   ]
  },
  {
   "cell_type": "code",
   "execution_count": 696,
   "metadata": {},
   "outputs": [
    {
     "name": "stdout",
     "output_type": "stream",
     "text": [
      "Tensor(shape=(1, 1), grad=[[0.]], _op=+,\n",
      "[[26]]\n",
      ")\n",
      "\n"
     ]
    },
    {
     "data": {
      "text/plain": [
       "array([[8.]])"
      ]
     },
     "execution_count": 696,
     "metadata": {},
     "output_type": "execute_result"
    }
   ],
   "source": [
    "out = t.forward(Tensor(8))\n",
    "print(out)\n",
    "out.backward()\n",
    "t.L1.grad\n"
   ]
  },
  {
   "cell_type": "code",
   "execution_count": 699,
   "metadata": {},
   "outputs": [],
   "source": [
    "# Generate two categories of x,y data\n",
    "x1 = np.random.default_rng().normal(10, 1, size=(1000,2))\n",
    "x2 = np.random.default_rng().normal(2, 1, size=(1000,2))\n"
   ]
  },
  {
   "cell_type": "code",
   "execution_count": 700,
   "metadata": {},
   "outputs": [
    {
     "name": "stdout",
     "output_type": "stream",
     "text": [
      "Tensor(shape=(1, 1), grad=[[1.]], _op=+,\n",
      "[[-6.71223386]]\n",
      ")\n",
      "\n"
     ]
    },
    {
     "data": {
      "text/plain": [
       "array([[8.80517106, 4.6088053 ],\n",
       "       [8.315237  , 4.35236386]])"
      ]
     },
     "execution_count": 700,
     "metadata": {},
     "output_type": "execute_result"
    }
   ],
   "source": [
    "# super-simple net for testing\n",
    "class twobinnet:\n",
    "    def __init__(self):\n",
    "      self.L1 = Tensor.uniform((2,2))\n",
    "      self.L1b = Tensor.uniform((1,2))\n",
    "      self.L2 = Tensor.uniform((2,1))\n",
    "      self.L2b = Tensor.uniform((1,1))\n",
    "    def forward(self, x):\n",
    "      out = x.dot(self.L1)\n",
    "      out = out + self.L1b\n",
    "      out = out.dot(self.L2)\n",
    "      out = out + self.L2b\n",
    "      # out = out.softmax()\n",
    "      return out\n",
    "    \n",
    "lol = twobinnet()\n",
    "out = lol.forward(Tensor(x1[1]))\n",
    "\n",
    "out.backward()\n",
    "\n",
    "print(out)\n",
    "lol.L1.grad\n"
   ]
  },
  {
   "cell_type": "code",
   "execution_count": 720,
   "metadata": {},
   "outputs": [],
   "source": [
    "# hello, world: mnist classifier with two hidden layers\n",
    "np.random.seed(1337)\n",
    "class Shittynet():\n",
    "  def __init__(self):\n",
    "\n",
    "    self.L1 = Tensor.uniform((28*28, 10))\n",
    "    self.L1b = Tensor.uniform((1,10))\n",
    "\n",
    "    self.L2 = Tensor.uniform((10,10))\n",
    "    self.L2b = Tensor.uniform((1,10))\n",
    "  \n",
    "  def forward(self, x):\n",
    "    out = x.dot(self.L1) + self.L1b\n",
    "    out = out.relu()\n",
    "    print(out)\n",
    "    out = out.dot(self.L2) + self.L2b\n",
    "    out = out.softmax()\n",
    "    return out\n",
    "\n",
    "\n"
   ]
  },
  {
   "cell_type": "code",
   "execution_count": 721,
   "metadata": {},
   "outputs": [
    {
     "name": "stdout",
     "output_type": "stream",
     "text": [
      "Tensor(shape=(1, 10), grad=[[0. 0. 0. 0. 0. 0. 0. 0. 0. 0.]], _op=ReLU,\n",
      "[[0.42279917 0.         0.35129242 0.         0.51479277 0.31507469\n",
      "  1.30629339 0.         0.24305745 0.        ]]\n",
      ")\n",
      "\n"
     ]
    },
    {
     "ename": "AssertionError",
     "evalue": "softmax defined for vectors, got shape (1, 10)",
     "output_type": "error",
     "traceback": [
      "\u001b[0;31m---------------------------------------------------------------------------\u001b[0m",
      "\u001b[0;31mAssertionError\u001b[0m                            Traceback (most recent call last)",
      "Cell \u001b[0;32mIn[721], line 5\u001b[0m\n\u001b[1;32m      2\u001b[0m data \u001b[39m=\u001b[39m x_train[\u001b[39m0\u001b[39m]\u001b[39m.\u001b[39mflatten()\n\u001b[1;32m      3\u001b[0m data \u001b[39m=\u001b[39m data \u001b[39m/\u001b[39m np\u001b[39m.\u001b[39mlinalg\u001b[39m.\u001b[39mnorm(data)\n\u001b[0;32m----> 5\u001b[0m out \u001b[39m=\u001b[39m lol\u001b[39m.\u001b[39;49mforward(Tensor(data))\n\u001b[1;32m      6\u001b[0m loss \u001b[39m=\u001b[39m out\u001b[39m.\u001b[39mforward(Tensor(data)) \u001b[39m-\u001b[39m [\u001b[39m0.\u001b[39m, \u001b[39m0.\u001b[39m, \u001b[39m0.\u001b[39m, \u001b[39m0.\u001b[39m,]\n\u001b[1;32m      7\u001b[0m out\u001b[39m.\u001b[39mbackward()\n",
      "Cell \u001b[0;32mIn[720], line 17\u001b[0m, in \u001b[0;36mShittynet.forward\u001b[0;34m(self, x)\u001b[0m\n\u001b[1;32m     15\u001b[0m \u001b[39mprint\u001b[39m(out)\n\u001b[1;32m     16\u001b[0m out \u001b[39m=\u001b[39m out\u001b[39m.\u001b[39mdot(\u001b[39mself\u001b[39m\u001b[39m.\u001b[39mL2) \u001b[39m+\u001b[39m \u001b[39mself\u001b[39m\u001b[39m.\u001b[39mL2b\n\u001b[0;32m---> 17\u001b[0m out \u001b[39m=\u001b[39m out\u001b[39m.\u001b[39;49msoftmax()\n\u001b[1;32m     18\u001b[0m \u001b[39mreturn\u001b[39;00m out\n",
      "Cell \u001b[0;32mIn[694], line 98\u001b[0m, in \u001b[0;36mTensor.softmax\u001b[0;34m(self)\u001b[0m\n\u001b[1;32m     97\u001b[0m \u001b[39mdef\u001b[39;00m \u001b[39msoftmax\u001b[39m(\u001b[39mself\u001b[39m):\n\u001b[0;32m---> 98\u001b[0m   \u001b[39massert\u001b[39;00m \u001b[39mlen\u001b[39m(\u001b[39mself\u001b[39m\u001b[39m.\u001b[39m_shape) \u001b[39m==\u001b[39m \u001b[39m1\u001b[39m, \u001b[39mf\u001b[39m\u001b[39m\"\u001b[39m\u001b[39msoftmax defined for vectors, got shape \u001b[39m\u001b[39m{\u001b[39;00m\u001b[39mself\u001b[39m\u001b[39m.\u001b[39m_shape\u001b[39m}\u001b[39;00m\u001b[39m\"\u001b[39m\n\u001b[1;32m     99\u001b[0m   out \u001b[39m=\u001b[39m \u001b[39mself\u001b[39m\u001b[39m.\u001b[39mexp()\n\u001b[1;32m    100\u001b[0m   \u001b[39mraise\u001b[39;00m \u001b[39mNotImplementedError\u001b[39;00m\n",
      "\u001b[0;31mAssertionError\u001b[0m: softmax defined for vectors, got shape (1, 10)"
     ]
    }
   ],
   "source": [
    "lol = Shittynet()\n",
    "data = x_train[0].flatten()\n",
    "data = data / np.linalg.norm(data)\n",
    "\n",
    "out = lol.forward(Tensor(data))\n",
    "loss = out.forward(Tensor(data)) - [0., 0., 0., 0.,]\n",
    "out.backward()"
   ]
  }
 ],
 "metadata": {
  "kernelspec": {
   "display_name": ".venv",
   "language": "python",
   "name": "python3"
  },
  "language_info": {
   "codemirror_mode": {
    "name": "ipython",
    "version": 3
   },
   "file_extension": ".py",
   "mimetype": "text/x-python",
   "name": "python",
   "nbconvert_exporter": "python",
   "pygments_lexer": "ipython3",
   "version": "3.11.4"
  },
  "orig_nbformat": 4
 },
 "nbformat": 4,
 "nbformat_minor": 2
}
